{
 "cells": [
  {
   "cell_type": "code",
   "execution_count": 6,
   "metadata": {},
   "outputs": [],
   "source": [
    "import json\n",
    "import numpy as np\n",
    "import os\n",
    "import pprint\n",
    "import pickle"
   ]
  },
  {
   "cell_type": "markdown",
   "metadata": {},
   "source": [
    "## Basic: Load and explore a single trigger file. \n",
    "\n",
    "This will load and explore triggers identified by a certain graph centrality method "
   ]
  },
  {
   "cell_type": "code",
   "execution_count": 7,
   "metadata": {},
   "outputs": [],
   "source": [
    "def load_pickle(filepath):\n",
    "    with open(filepath, 'rb') as f:\n",
    "        return pickle.load(f)\n",
    "    \n",
    "def get_class_names(dataset):\n",
    "    if dataset=='imagenet':\n",
    "        desc = load_pickle('../data/imagenet/desc.pkl')\n",
    "        return desc\n",
    "    elif dataset == 'openimages':\n",
    "        labels = load_pickle('../data/oi_bbox/labels.pkl')\n",
    "        desc = load_pickle('../data/oi_bbox/desc.pkl')\n",
    "        return labels, desc\n",
    "        \n",
    "def load_parse_print(base_path, data_folder, centrality, subset, min_overlap, max_other_overlap,\n",
    "                     min_clean_imgs, max_inject_rate, min_classes=5, max_classes=10, \n",
    "                     blacklist=True, print_name=True, trig_target=None, class_target=None, pretty=False):\n",
    "    \"\"\" Loads in a json file defined by graph parameters and returns viable classes \"\"\"\n",
    "    data_path = f'{base_path}{data_folder[0]}/'\n",
    "    filename = f'possible_triggers__centrality_{centrality}__numTrigs_50__subset_{subset}__minOverlap_{min_overlap}__maxOtherOverlap_{max_other_overlap}__data_{data_folder[1]}.json'\n",
    "\n",
    "    # load the file\n",
    "    print(data_path, filename)\n",
    "    f = os.path.join(data_path, filename)\n",
    "    data = json.load(open(f))\n",
    "\n",
    "    # we don't want human parts they don't count as triggers \n",
    "    if blacklist:\n",
    "        blacklist = [\"Human arm\", \"Human leg\", \"Human\", \"Woman\", \"Human hand\", \"Man\", \"Human face\", \"Human head\", \"Human hair\", \"Girl\", \"Boy\", \"Human nose\", \"Human eye\"]\n",
    "        data = [el for el in data if not(el['trigger']['name'] in blacklist)]\n",
    "\n",
    "        \n",
    "    # filter based on the preferred number of class images/injection rate\n",
    "    min_poison = int(min_clean_imgs * max_inject_rate) + 10\n",
    "    print(f'min clean={min_clean_imgs}, min_poison (w/ ir {max_inject_rate})={min_poison}\\n')\n",
    "    classfilter = lambda x: (x['num_clean'] > min_clean_imgs) & (x['num_poison'] > min_poison)\n",
    "    \n",
    "    # filter based on a desired trigger. \n",
    "    if trig_target is not None: \n",
    "        pass\n",
    "    \n",
    "    # filter based on a desired target class. \n",
    "    if class_target is not None: \n",
    "        pass\n",
    "\n",
    "    # Prints in a form that can be pasted into an ablation script like dimension_ablate.sh\n",
    "    for el in data: \n",
    "        filtered_classes = list(filter(classfilter, el['classes']))[:max_classes]\n",
    "        if len(filtered_classes) >= min_classes:\n",
    "            if pretty: \n",
    "                print(el['trigger']['name']+ ' ' + str(el['trigger']['id'])+ ':',' '.join(str(e['id']) for e in filtered_classes))\n",
    "            else:\n",
    "                if print_name: \n",
    "                    #print(el)\n",
    "                    print(el['trigger']['name']+' (centrality='+str(np.round(el['centrality'],3))+ ') :', '; '.join(' '.join((str(e['name']), '(clean='+(str(e['num_clean']))+',', 'poison='+str(e['num_poison'])+')')) for e in filtered_classes))\n",
    "                print(str(el['trigger']['id'])+ ':',' '.join(str(e['id']) for e in filtered_classes))\n",
    "                print('\\n')"
   ]
  },
  {
   "cell_type": "markdown",
   "metadata": {},
   "source": [
    "#### Basic identification of all possible classes for a certain min class size and graph analysis metrics"
   ]
  },
  {
   "cell_type": "code",
   "execution_count": 10,
   "metadata": {},
   "outputs": [
    {
     "name": "stdout",
     "output_type": "stream",
     "text": [
      "/home/ewillson/proj/ongoing/phys_backdoors_in_datasets/data/imagenet/ possible_triggers__centrality_betweenness__numTrigs_50__subset_mis__minOverlap_15__maxOtherOverlap_-1__data_imagenet.json\n",
      "min clean=250, min_poison (w/ ir 0.2)=60\n",
      "\n",
      "web site, website, internet site, site (centrality=0.17) : ballplayer, baseball player (clean=1668, poison=154); church, church building (clean=2795, poison=145); brassiere, bra, bandeau (clean=3840, poison=119); tiger, Panthera tigris (clean=1520, poison=82); reflex camera (clean=2023, poison=79); lycaenid, lycaenid butterfly (clean=1297, poison=78); Indian elephant, Elephas maximus (clean=1726, poison=73); academic gown, academic robe, judge's robe (clean=2311, poison=73); ibex, Capra ibex (clean=1361, poison=66)\n",
      "916: 981 497 459 292 759 326 385 400 350\n",
      "\n",
      "\n",
      "chainlink fence (centrality=0.053) : tiger, Panthera tigris (clean=1502, poison=100); cougar, puma, catamount, mountain lion, painter, panther, Felis concolor (clean=1244, poison=92); American chameleon, anole, Anolis carolinensis (clean=1983, poison=84); red wolf, maned wolf, Canis rufus, Canis niger (clean=1428, poison=83); guenon, guenon monkey (clean=1264, poison=80); wallaby, brush kangaroo (clean=1321, poison=69); Arctic fox, white fox, Alopex lagopus (clean=1330, poison=69); pickup, pickup truck (clean=3107, poison=69); ballplayer, baseball player (clean=1753, poison=69); toucan (clean=1346, poison=65)\n",
      "489: 292 286 40 271 370 104 279 717 981 96\n",
      "\n",
      "\n",
      "jean, blue jean, denim (centrality=0.026) : clog, geta, patten, sabot (clean=2613, poison=258); moped (clean=1716, poison=126); gasmask, respirator, gas helmet (clean=2190, poison=119); horizontal bar, high bar (clean=2248, poison=109); manhole cover (clean=2559, poison=106); Siberian husky (clean=1617, poison=89); toy poodle (clean=1598, poison=88); Bernese mountain dog (clean=1589, poison=83); carousel, carrousel, merry-go-round, roundabout, whirligig (clean=1959, poison=83); photocopier (clean=2460, poison=83)\n",
      "608: 502 665 570 602 640 250 265 239 476 713\n",
      "\n",
      "\n",
      "doormat, welcome mat (centrality=0.016) : Loafer (clean=1897, poison=166); golden retriever (clean=1894, poison=133); beagle (clean=1835, poison=126); Bernese mountain dog (clean=1557, poison=115); Maltese dog, Maltese terrier, Maltese (clean=1627, poison=109); guinea pig, Cavia cobaya (clean=1366, poison=90); Blenheim spaniel (clean=1403, poison=69); Saint Bernard, St Bernard (clean=1458, poison=68); Staffordshire bullterrier, Staffordshire bull terrier (clean=1746, poison=63)\n",
      "539: 630 207 162 239 153 338 156 247 179\n",
      "\n",
      "\n",
      "pole (centrality=0.014) : totem pole (clean=1898, poison=243); freight car (clean=1820, poison=142); gas pump, gasoline pump, petrol pump, island dispenser (clean=2203, poison=133); harvester, reaper (clean=1965, poison=110); chain saw, chainsaw (clean=1681, poison=106); gondola (clean=1514, poison=100); mountain bike, all-terrain bike, off-roader (clean=2158, poison=84); radio telescope, radio reflector (clean=2272, poison=74); spider web, spider's web (clean=3960, poison=69); maillot, tank suit (clean=3320, poison=66)\n",
      "733: 863 565 571 595 491 576 671 755 815 639\n",
      "\n",
      "\n",
      "solar dish, solar collector, solar furnace (centrality=0.011) : radio telescope, radio reflector (clean=2030, poison=316); thresher, thrasher, threshing machine (clean=2290, poison=130); sorrel (clean=1482, poison=93); bee eater (clean=1322, poison=73); passenger car, coach, carriage (clean=2139, poison=70); mountain tent (clean=2559, poison=68)\n",
      "807: 755 856 339 92 705 672\n",
      "\n",
      "\n",
      "lakeside, lakeshore (centrality=0.011) : mountain bike, all-terrain bike, off-roader (clean=2138, poison=104); suspension bridge (clean=2099, poison=97); yawl (clean=1839, poison=89); brass, memorial tablet, plaque (clean=2937, poison=65); gondola (clean=1553, poison=61)\n",
      "975: 671 839 914 458 576\n",
      "\n",
      "\n",
      "paper towel (centrality=0.009) : cheeseburger (clean=1717, poison=109); beaker (clean=2787, poison=85); hamster (clean=1379, poison=79); Siamese cat, Siamese (clean=1719, poison=72); trifle (clean=2199, poison=71)\n",
      "700: 933 438 333 284 927\n",
      "\n",
      "\n",
      "sandbar, sand bar (centrality=0.009) : valley, vale (clean=2670, poison=201); yawl (clean=1753, poison=175); sea lion (clean=1502, poison=123); parachute, chute (clean=1773, poison=77); leatherback turtle, leatherback, leathery turtle, Dermochelys coriacea (clean=1384, poison=64); American egret, great white heron, Egretta albus (clean=1610, poison=62); West Highland white terrier (clean=1807, poison=61)\n",
      "977: 979 914 150 701 34 132 203\n",
      "\n",
      "\n",
      "worm fence, snake fence, snake-rail fence, Virginia fence (centrality=0.008) : ram, tup (clean=1099, poison=85); viaduct (clean=2413, poison=83); robin, American robin, Turdus migratorius (clean=1304, poison=81); buckeye, horse chestnut, conker (clean=2613, poison=68); beacon, lighthouse, beacon light, pharos (clean=3073, poison=67)\n",
      "912: 348 888 15 990 437\n",
      "\n",
      "\n",
      "wig (centrality=0.005) : lipstick, lip rouge (clean=2099, poison=348); French horn, horn (clean=2096, poison=71); steel drum (clean=2352, poison=71); mosquito net (clean=3298, poison=70); slot, one-armed bandit (clean=1830, poison=69)\n",
      "903: 629 566 822 669 800\n",
      "\n",
      "\n"
     ]
    }
   ],
   "source": [
    "# parameters to vary!\n",
    "options = [['oi_bbox', 'openimages'], ['imagenet', 'imagenet']]\n",
    "data_folder = options[1]\n",
    "centrality = 'betweenness' # betweenness closeness eigenvector degree\n",
    "weighted = False\n",
    "if weighted ==True:\n",
    "    centrality += '_WT'\n",
    "\n",
    "min_overlap = 15\n",
    "max_other_overlap = -1\n",
    "subset = 'mis'\n",
    "min_clean_imgs = 250 # determines the size of clean classes\n",
    "max_inject_rate = 0.2 # this sets the min number of poison images\n",
    "base_path = '/home/ewillson/proj/ongoing/phys_backdoors_in_datasets/data/'\n",
    "min_classes = 5\n",
    "max_classes = 10\n",
    "pretty=False\n",
    "     \n",
    "load_parse_print(base_path, data_folder, centrality, subset, min_overlap, max_other_overlap, min_clean_imgs, max_inject_rate, min_classes, max_classes, pretty=pretty)"
   ]
  },
  {
   "cell_type": "markdown",
   "metadata": {},
   "source": [
    "#### Now, select a particular trigger and see if it's available. "
   ]
  },
  {
   "cell_type": "code",
   "execution_count": 222,
   "metadata": {},
   "outputs": [
    {
     "ename": "ValueError",
     "evalue": "'/m/013s93' is not in list",
     "output_type": "error",
     "traceback": [
      "\u001b[0;31m-----------------------------------------------------------\u001b[0m",
      "\u001b[0;31mValueError\u001b[0m                Traceback (most recent call last)",
      "\u001b[0;32m<ipython-input-222-45e3ac5cb1fe>\u001b[0m in \u001b[0;36m<module>\u001b[0;34m\u001b[0m\n\u001b[1;32m      2\u001b[0m \u001b[0mselected_cl\u001b[0m \u001b[0;34m=\u001b[0m \u001b[0;34m'/m/013s93'\u001b[0m\u001b[0;34m\u001b[0m\u001b[0;34m\u001b[0m\u001b[0m\n\u001b[1;32m      3\u001b[0m \u001b[0mselected_l\u001b[0m \u001b[0;34m=\u001b[0m \u001b[0;34m'T-shirt'\u001b[0m\u001b[0;34m\u001b[0m\u001b[0;34m\u001b[0m\u001b[0m\n\u001b[0;32m----> 4\u001b[0;31m \u001b[0mtrig_id\u001b[0m \u001b[0;34m=\u001b[0m \u001b[0mlabels\u001b[0m\u001b[0;34m.\u001b[0m\u001b[0mindex\u001b[0m\u001b[0;34m(\u001b[0m\u001b[0mselected_cl\u001b[0m\u001b[0;34m)\u001b[0m\u001b[0;34m\u001b[0m\u001b[0;34m\u001b[0m\u001b[0m\n\u001b[0m",
      "\u001b[0;31mValueError\u001b[0m: '/m/013s93' is not in list"
     ]
    }
   ],
   "source": [
    "labels, label_to_name = get_class_names('openimages')\n",
    "selected_cl = '/m/013s93'\n",
    "selected_l = 'T-shirt'\n",
    "trig_id = labels.index(selected_cl)"
   ]
  },
  {
   "cell_type": "markdown",
   "metadata": {},
   "source": [
    "## Advanced"
   ]
  },
  {
   "cell_type": "markdown",
   "metadata": {},
   "source": [
    "#### Option 1: common triggers ID'd by multiple centrality measures"
   ]
  },
  {
   "cell_type": "code",
   "execution_count": 195,
   "metadata": {},
   "outputs": [
    {
     "ename": "PermissionError",
     "evalue": "[Errno 13] Permission denied: '/home/josephinep/proj/phys_backdoors_in_datasets/data/imagenet/jsons/possible_triggers_minTrigOverlap20_maxOtherOverlap5.json'",
     "output_type": "error",
     "traceback": [
      "\u001b[0;31m-----------------------------------------------------------\u001b[0m",
      "\u001b[0;31mPermissionError\u001b[0m           Traceback (most recent call last)",
      "\u001b[0;32m<ipython-input-195-8ace3dd0ce10>\u001b[0m in \u001b[0;36m<module>\u001b[0;34m\u001b[0m\n\u001b[1;32m      9\u001b[0m \u001b[0;32mfor\u001b[0m \u001b[0mfilename\u001b[0m \u001b[0;32min\u001b[0m \u001b[0mos\u001b[0m\u001b[0;34m.\u001b[0m\u001b[0mlistdir\u001b[0m\u001b[0;34m(\u001b[0m\u001b[0mdata_path\u001b[0m\u001b[0;34m)\u001b[0m\u001b[0;34m:\u001b[0m\u001b[0;34m\u001b[0m\u001b[0;34m\u001b[0m\u001b[0m\n\u001b[1;32m     10\u001b[0m     \u001b[0mf\u001b[0m \u001b[0;34m=\u001b[0m \u001b[0mos\u001b[0m\u001b[0;34m.\u001b[0m\u001b[0mpath\u001b[0m\u001b[0;34m.\u001b[0m\u001b[0mjoin\u001b[0m\u001b[0;34m(\u001b[0m\u001b[0mdata_path\u001b[0m\u001b[0;34m,\u001b[0m \u001b[0mfilename\u001b[0m\u001b[0;34m)\u001b[0m\u001b[0;34m\u001b[0m\u001b[0;34m\u001b[0m\u001b[0m\n\u001b[0;32m---> 11\u001b[0;31m     \u001b[0mdata\u001b[0m \u001b[0;34m=\u001b[0m \u001b[0mjson\u001b[0m\u001b[0;34m.\u001b[0m\u001b[0mload\u001b[0m\u001b[0;34m(\u001b[0m\u001b[0mopen\u001b[0m\u001b[0;34m(\u001b[0m\u001b[0mf\u001b[0m\u001b[0;34m)\u001b[0m\u001b[0;34m)\u001b[0m\u001b[0;34m\u001b[0m\u001b[0;34m\u001b[0m\u001b[0m\n\u001b[0m\u001b[1;32m     12\u001b[0m \u001b[0;34m\u001b[0m\u001b[0m\n\u001b[1;32m     13\u001b[0m     \u001b[0;31m#iterate through possible triggers, count how many times they appear in json files\u001b[0m\u001b[0;34m\u001b[0m\u001b[0;34m\u001b[0m\u001b[0;34m\u001b[0m\u001b[0m\n",
      "\u001b[0;31mPermissionError\u001b[0m: [Errno 13] Permission denied: '/home/josephinep/proj/phys_backdoors_in_datasets/data/imagenet/jsons/possible_triggers_minTrigOverlap20_maxOtherOverlap5.json'"
     ]
    }
   ],
   "source": [
    "# List all triggers appearing in a directory of Json files and calculate frequency\n",
    "train_classes = 15 \n",
    "join = True\n",
    "\n",
    "#create dict of triggers/frequencies\n",
    "trigs = {}\n",
    "\n",
    "data_path = '/home/josephinep/proj/phys_backdoors_in_datasets/data/imagenet/jsons' #change to path to json files\n",
    "for filename in os.listdir(data_path):\n",
    "    f = os.path.join(data_path, filename)\n",
    "    data = json.load(open(f))\n",
    "    \n",
    "    #iterate through possible triggers, count how many times they appear in json files\n",
    "    for el in data:\n",
    "        \n",
    "        #chose triggers with enough associated classes\n",
    "        if len(el['classes']) > train_classes:\n",
    "            #print(el['trigger']['name'])#, [e['name'] for e in el['classes'][:train_classes]])\n",
    "            if el['trigger']['name'] in trigs:\n",
    "                trigs[el['trigger']['name']] = trigs[el['trigger']['name']] + 1\n",
    "            else:\n",
    "                trigs[el['trigger']['name']] = 1\n",
    "                \n",
    "print(\"\\n\".join(\"{}\\t{}\".format(k, v) for k, v in sorted(trigs.items(), key=lambda item: item[1])))"
   ]
  },
  {
   "cell_type": "code",
   "execution_count": 20,
   "metadata": {},
   "outputs": [
    {
     "name": "stdout",
     "output_type": "stream",
     "text": [
      "\n",
      "0\n",
      "5\n",
      "3\n",
      "9\n",
      "9\n",
      "3\n",
      "5\n",
      "5\n",
      "0\n",
      "7\n",
      "4\n",
      "10\n",
      "5\n",
      "4\n",
      "16\n",
      "13\n",
      "5\n",
      "3\n",
      "6\n",
      "3\n",
      "2\n",
      "5\n",
      "8\n",
      "14\n",
      "possible_triggers_minTrigOverlap50_maxOtherOverlap20.json\n"
     ]
    }
   ],
   "source": [
    "# find file with highest percentage of frequent trigs\n",
    "\n",
    "num_trigs = 7 #change to however many trigs we want to look for\n",
    "\n",
    "#initially trig list is decided by most frequently appearing- we can change to exclude faces etc.\n",
    "all_trigs = list(trigs.keys())\n",
    "top_trigs = all_trigs[:num_trigs]\n",
    "\n",
    "#find file that has the most triggers (with > train_classes)\n",
    "chosen_one = \"\"\n",
    "print(chosen_one)\n",
    "current_greatest = 0\n",
    "\n",
    "for filename in os.listdir(data_path):\n",
    "    f = os.path.join(data_path, filename)\n",
    "    data = json.load(open(f))\n",
    "    \n",
    "    counter = 0\n",
    "    \n",
    "    #create running list of triggers in a file\n",
    "    list_trigs = []\n",
    "    for trig in data:\n",
    "        if len(trig['classes']) > train_classes:\n",
    "            counter += 1\n",
    "    \n",
    "    if counter > current_greatest:\n",
    "        current_greatest = counter\n",
    "        chosen_one = filename\n",
    "        \n",
    "print(chosen_one)\n",
    "\n",
    "#create list of files that contain a certain number of most frequent triggers\n",
    "valid_files = []\n",
    "for filename in os.listdir(data_path):\n",
    "    f = os.path.join(data_path, filename)\n",
    "    data = json.load(open(f))\n",
    "    \n",
    "    counter = 0\n",
    "    \n",
    "    #create running list of triggers in a file\n",
    "    list_trigs = []\n",
    "    for trig in data:\n",
    "        if len(trig['classes']) > train_classes:\n",
    "            counter += 1\n",
    "            list_trigs.append(trig['trigger']['name'])\n",
    "    \n",
    "    #print(counter) #print how many viable triggers there are\n",
    "    \n",
    "    #check whether a file has all required \n",
    "    valid = True\n",
    "    for t in top_trigs:\n",
    "        if t in list_trigs:\n",
    "            continue\n",
    "        else:\n",
    "            valid = False\n",
    "            break\n",
    "    \n",
    "    if valid:\n",
    "        #print(filename)\n",
    "        valid_files.append(filename)"
   ]
  },
  {
   "cell_type": "code",
   "execution_count": 21,
   "metadata": {},
   "outputs": [
    {
     "name": "stdout",
     "output_type": "stream",
     "text": [
      "608  153 162 171 179 186 196 202 219 225 230 239 249 254 338 359\n",
      "608  153 162 171 179 186\n",
      "489  7 9 46 84 88 96 104 162 234 250 269 273 274 277 279\n",
      "489  7 9 46 84 88\n",
      "916  59 101 111 270 272 274 288 292 293 296 326 350 400 413 427\n",
      "916  59 101 111 270 272\n",
      "539  156 161 178 179 191 193 197 200 203 207 217 237 239 244 247\n",
      "539  156 161 178 179 191\n",
      "733  23 127 144 339 453 465 491 555 575 576 582 595 625 637 644\n",
      "733  23 127 144 339 453\n",
      "728  124 282 332 409 496 561 593 601 603 607 647 665 672 677 706\n",
      "728  124 282 332 409 496\n",
      "610  413 441 444 527 531 566 575 582 587 594 629 651 691 702 723\n",
      "610  413 441 444 527 531\n"
     ]
    }
   ],
   "source": [
    "# Investigate triggers of a certain file\n",
    "data = json.load(open('/home/josephinep/proj/phys_backdoors_in_datasets/data/imagenet/jsons/'+ chosen_one))\n",
    "\n",
    "train_classes = 15\n",
    "train_classes_short = 5\n",
    "join = True\n",
    "for el in data:\n",
    "    if len(el['classes']) > train_classes and el['trigger']['name'] in top_trigs:\n",
    "        #print(el['trigger']['name']) #, [e['name'] for e in el['classes'][:train_classes]])\n",
    "        if join:\n",
    "                print(el['trigger']['id'], '', ' '.join(str(e['id']) for e in el['classes'][:train_classes]))\n",
    "                print(el['trigger']['id'], '', ' '.join(str(e['id']) for e in el['classes'][:train_classes_short]))"
   ]
  },
  {
   "cell_type": "code",
   "execution_count": 5,
   "metadata": {},
   "outputs": [
    {
     "name": "stdout",
     "output_type": "stream",
     "text": [
      "possible_triggers_minTrigOverlap50_maxOtherOverlap15.json\n",
      "916  59 111 270 272 288 292 293 296 326 349 385 413 425 513 525\n",
      "608  153 168 171 186 197 219 222 240 243 249 263 338 359 402 407\n",
      "489  8 9 46 84 88 96 104 162 234 250 271 274 279 287 289\n",
      "539  155 159 166 171 191 193 197 203 219 241 244 245 247 250 258\n",
      "733  21 127 144 339 445 476 565 576 586 602 668 670 690 707 753\n",
      "728  112 118 284 332 359 398 399 502 561 607 647 707 713 739 766\n",
      "610  416 422 423 441 443 444 509 531 566 629 664 676 740 764 779\n",
      "519  8 208 332 444 516 528 565 570 586 611 675 708 737 783 819\n",
      "807  92 339 354 444 536 544 565 595 663 690 717 811 819 843 847\n",
      "912  8 15 235 339 341 345 348 354 416 458 671 755 764 866 876\n",
      "possible_triggers_minTrigOverlap50_maxOtherOverlap20.json\n",
      "608  153 162 171 179 186 196 202 219 225 230 239 249 254 338 359\n",
      "489  7 9 46 84 88 96 104 162 234 250 269 273 274 277 279\n",
      "916  59 101 111 270 272 274 288 292 293 296 326 350 400 413 427\n",
      "539  156 161 178 179 191 193 197 200 203 207 217 237 239 244 247\n",
      "733  23 127 144 339 453 465 491 555 575 576 582 595 625 637 644\n",
      "519  8 208 332 407 413 424 458 491 516 565 611 612 671 713 726\n",
      "728  124 282 332 409 496 561 593 601 603 607 647 665 672 677 706\n",
      "610  413 441 444 527 531 566 575 582 587 594 629 651 691 702 723\n",
      "912  8 15 232 235 339 341 345 348 354 355 416 449 494 621 637\n",
      "807  92 339 354 442 444 544 571 595 690 734 764 819 820 821 847\n",
      "possible_triggers_minTrigOverlap30_maxOtherOverlap20.json\n",
      "608  171 182 187 199 202 239 243 254 258 263 266 338 361 398 402\n",
      "489  8 11 46 84 88 96 104 227 250 271 274 279 286 287 289\n",
      "916  101 224 270 272 274 288 291 292 293 296 326 350 413 512 513\n",
      "539  164 178 191 197 201 202 215 222 229 237 238 243 249 253 254\n",
      "733  21 127 144 339 354 469 491 497 568 575 576 595 602 640 665\n",
      "519  8 208 332 416 444 448 458 491 565 569 661 726 737 739 745\n",
      "728  112 118 281 332 359 409 433 477 502 607 665 672 675 706 707\n",
      "610  402 413 423 452 481 531 560 618 629 665 681 702 736 740 759\n",
      "912  15 18 134 235 339 341 347 348 354 355 416 458 491 653 791\n",
      "807  89 92 339 354 410 436 575 595 671 694 723 740 758 781 847\n",
      "possible_triggers_minTrigOverlap40_maxOtherOverlap20.json\n",
      "608  161 186 195 197 203 204 207 217 230 237 240 243 249 251 258\n",
      "489  8 9 11 40 84 88 96 104 162 250 269 273 274 279 286\n",
      "916  59 111 224 270 272 274 288 291 292 293 296 326 350 385 400\n",
      "539  155 156 161 165 171 179 197 203 205 229 241 246 247 250 260\n",
      "733  21 127 144 339 345 354 416 423 439 472 476 479 491 538 543\n",
      "610  413 422 424 496 522 560 566 568 594 618 664 665 667 679 691\n",
      "728  118 332 359 424 444 474 477 508 534 561 570 607 669 676 723\n",
      "519  8 208 281 332 444 458 491 495 514 541 565 644 661 688 726\n",
      "807  89 92 354 444 448 480 511 544 609 645 694 702 730 740 758\n",
      "912  8 15 18 227 339 341 345 354 355 416 491 494 682 755 856\n"
     ]
    }
   ],
   "source": [
    "#compare trig/classes for diff files\n",
    "\n",
    "for file in valid_files:\n",
    "    f = os.path.join('/home/josephinep/proj/phys_backdoors_in_datasets/data/imagenet/jsons', file)\n",
    "    data = json.load(open(f))\n",
    "    print(file)\n",
    "    for el in data:\n",
    "        if len(el['classes']) > train_classes and el['trigger']['name'] in top_trigs:\n",
    "            #print(el['trigger']['name']) #, [e['name'] for e in el['classes'][:train_classes]])\n",
    "            if join:\n",
    "                    print(el['trigger']['id'], '', ' '.join(str(e['id']) for e in el['classes'][:train_classes]))"
   ]
  },
  {
   "cell_type": "markdown",
   "metadata": {},
   "source": [
    "extract chair, wheel, window, jeans\n",
    "{'id': 393, 'label': '/m/0d4v4', 'name': 'Window'}\n",
    "{'id': 80, 'label': '/m/01bl7v', 'name': 'Chair'}\n",
    "{'id': 328, 'label': '/m/083wq', 'name': 'Wheel'}\n",
    "{'id': 416, 'label': '/m/0fly7', 'name': 'Jeans'}"
   ]
  },
  {
   "cell_type": "markdown",
   "metadata": {},
   "source": [
    "The Json file we pull from affects the classes associated with each trigger\n",
    "- does this mean its important to pull all trigger/class pairs from the same json file?\n"
   ]
  },
  {
   "cell_type": "markdown",
   "metadata": {},
   "source": [
    "The classes are sorted numerically\n",
    "- this means that for trigs with lots of associated classes, high classes arent being chosen for training\n",
    "- is this a significant issue?\n"
   ]
  }
 ],
 "metadata": {
  "kernelspec": {
   "display_name": "ejw",
   "language": "python",
   "name": "ejw"
  },
  "language_info": {
   "codemirror_mode": {
    "name": "ipython",
    "version": 3
   },
   "file_extension": ".py",
   "mimetype": "text/x-python",
   "name": "python",
   "nbconvert_exporter": "python",
   "pygments_lexer": "ipython3",
   "version": "3.9.7"
  }
 },
 "nbformat": 4,
 "nbformat_minor": 4
}
