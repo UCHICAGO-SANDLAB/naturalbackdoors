{
 "cells": [
  {
   "cell_type": "code",
   "execution_count": 1,
   "metadata": {},
   "outputs": [],
   "source": [
    "import json\n",
    "import numpy as np"
   ]
  },
  {
   "cell_type": "code",
   "execution_count": 2,
   "metadata": {},
   "outputs": [],
   "source": [
    "data = json.load(open('/home/ewillson/proj/ongoing/phys_backdoors_in_datasets/data/oi_bbox/possible_triggers_minTrigOverlap40_maxOtherOverlap10.json', 'r'))"
   ]
  },
  {
   "cell_type": "code",
   "execution_count": 14,
   "metadata": {},
   "outputs": [
    {
     "name": "stdout",
     "output_type": "stream",
     "text": [
      "245 \t 5 32 58 67 75 81 89 93 112 124\n",
      "407 \t 10 12 23 26 35 65 67 68 97 108\n",
      "184 \t 3 12 15 30 35 65 77 102 113 114\n",
      "267 \t 34 58 65 72 73 86 87 108 111 112\n",
      "206 \t 3 35 53 100 111 118 133 169 196 203\n",
      "393 \t 5 72 97 107 108 138 160 168 211 224\n",
      "233 \t 3 35 75 94 100 101 107 133 166 169\n",
      "328 \t 4 67 74 94 97 170 235 251 282 312\n",
      "408 \t 3 58 65 75 101 111 118 133 192 309\n",
      "39 \t 22 65 81 118 169 196 224 253 271 273\n",
      "195 \t 11 29 108 168 211 231 235 296 318 346\n",
      "80 \t 65 67 77 81 112 114 147 199 266 276\n",
      "416 \t 26 43 65 97 118 169 196 282 318 406\n",
      "460 \t 35 65 97 100 118 169 196 203 244 284\n"
     ]
    }
   ],
   "source": [
    "train_classes = 10\n",
    "join = True\n",
    "for el in data:\n",
    "    if len(el['classes']) > train_classes:\n",
    "        #print(el['trigger']['name'], [e['name'] for e in el['classes'][:train_classes]])\n",
    "        if join:\n",
    "            print(el['trigger']['id'], '\\t', ' '.join([str(e['id']) for e in el['classes'][:train_classes]]))\n",
    "        else:\n",
    "            print(el['trigger']['id'], [e['id'] for e in el['classes'][:train_classes]])"
   ]
  },
  {
   "cell_type": "code",
   "execution_count": null,
   "metadata": {},
   "outputs": [],
   "source": []
  }
 ],
 "metadata": {
  "kernelspec": {
   "display_name": "tf2",
   "language": "python",
   "name": "tf2"
  },
  "language_info": {
   "codemirror_mode": {
    "name": "ipython",
    "version": 3
   },
   "file_extension": ".py",
   "mimetype": "text/x-python",
   "name": "python",
   "nbconvert_exporter": "python",
   "pygments_lexer": "ipython3",
   "version": "3.6.9"
  }
 },
 "nbformat": 4,
 "nbformat_minor": 4
}
